{
 "cells": [
  {
   "cell_type": "code",
   "execution_count": 10,
   "metadata": {},
   "outputs": [],
   "source": [
    "from root_pandas import read_root\n",
    "import seaborn as sns\n",
    "from matplotlib import pyplot as plt\n",
    "import numpy as np\n",
    "import pandas as pd\n",
    "from tqdm import tqdm\n",
    "from sklearn.metrics import roc_auc_score, precision_recall_curve, confusion_matrix, precision_score, recall_score\n",
    "import gc ; gc.enable()\n",
    "from sklearn.model_selection import train_test_split, StratifiedKFold\n",
    "from sklearn.preprocessing import StandardScaler\n",
    "from lightgbm import LGBMClassifier\n",
    "from xgboost import XGBClassifier\n",
    "from sklearn.neural_network import MLPClassifier\n",
    "from tqdm import tqdm\n",
    "import lightgbm as lgb"
   ]
  },
  {
   "cell_type": "code",
   "execution_count": 51,
   "metadata": {},
   "outputs": [],
   "source": [
    "ids = [\n",
    "'runNumber'\n",
    ",'eventNumber'\n",
    ",'nCandidate']\n",
    "\n",
    "features = [\n",
    "'TwoBody_DIRA_OWNPV'\n",
    ",'TwoBody_DOCAMAX'\n",
    ",'TwoBody_ENDVERTEX_CHI2'\n",
    ",'noexpand:log(TwoBody_FDCHI2_OWNPV)'    \n",
    ",'TwoBody_FD_OWNPV'\n",
    ",'TwoBody_M'\n",
    ",'TwoBody_IPCHI2_OWNPV'\n",
    ",'TwoBody_Mcorr'\n",
    ",'TwoBody_PT'\n",
    ",'noexpand:log(Track1_MINIPCHI2)'\n",
    ",'Track1_PT'\n",
    ",'noexpand:log(Track2_MINIPCHI2)'\n",
    ",'Track2_PT'\n",
    ",'TwoBody_n_Extra']\n",
    "\n",
    "labels = [\n",
    "'TwoBody_FromSameB' ]\n",
    "\n",
    "cols = ids+ features + labels"
   ]
  },
  {
   "cell_type": "code",
   "execution_count": 52,
   "metadata": {},
   "outputs": [
    {
     "name": "stdout",
     "output_type": "stream",
     "text": [
      "-Total Number of two_track_vertex candidates:  19107\n"
     ]
    }
   ],
   "source": [
    "df = read_root('TaggingJpsiK2012_tiny.root', columns=cols)\n",
    "#df = read_root('TaggingJpsiK2012_5pct.root', columns=cols)\n",
    "#as eventNumber is not unique, but for a given run number, it is, so we can combine the two to get a completely unique id for each event\n",
    "df.index = df.apply(lambda x:str(int(x.runNumber)) + str(int(x.eventNumber))+'-'+str(int(x.nCandidate)), axis=1 )\n",
    "df = df.drop(columns=['runNumber', 'eventNumber', 'nCandidate'], axis=0)\n",
    "#extra features\n",
    "df['FD_over_FDCHI2'] = df.apply(lambda x: x['TwoBody_FD_OWNPV']/1.5*x['log(TwoBody_FDCHI2_OWNPV)'], axis=1)\n",
    "print('-Total Number of two_track_vertex candidates: ',df.shape[0])"
   ]
  },
  {
   "cell_type": "code",
   "execution_count": 53,
   "metadata": {},
   "outputs": [
    {
     "data": {
      "text/html": [
       "<div>\n",
       "<style scoped>\n",
       "    .dataframe tbody tr th:only-of-type {\n",
       "        vertical-align: middle;\n",
       "    }\n",
       "\n",
       "    .dataframe tbody tr th {\n",
       "        vertical-align: top;\n",
       "    }\n",
       "\n",
       "    .dataframe thead th {\n",
       "        text-align: right;\n",
       "    }\n",
       "</style>\n",
       "<table border=\"1\" class=\"dataframe\">\n",
       "  <thead>\n",
       "    <tr style=\"text-align: right;\">\n",
       "      <th></th>\n",
       "      <th>TwoBody_M</th>\n",
       "      <th>TwoBody_Mcorr</th>\n",
       "      <th>TwoBody_PT</th>\n",
       "      <th>Track1_PT</th>\n",
       "      <th>TwoBody_n_Extra</th>\n",
       "      <th>TwoBody_DOCAMAX</th>\n",
       "      <th>TwoBody_ENDVERTEX_CHI2</th>\n",
       "      <th>TwoBody_DIRA_OWNPV</th>\n",
       "      <th>TwoBody_IPCHI2_OWNPV</th>\n",
       "      <th>Track2_PT</th>\n",
       "      <th>TwoBody_FromSameB</th>\n",
       "      <th>TwoBody_FD_OWNPV</th>\n",
       "      <th>log(TwoBody_FDCHI2_OWNPV)</th>\n",
       "      <th>log(Track1_MINIPCHI2)</th>\n",
       "      <th>log(Track2_MINIPCHI2)</th>\n",
       "      <th>FD_over_FDCHI2</th>\n",
       "    </tr>\n",
       "  </thead>\n",
       "  <tbody>\n",
       "    <tr>\n",
       "      <th>5758380686695-0</th>\n",
       "      <td>965.996975</td>\n",
       "      <td>3980.631373</td>\n",
       "      <td>1088.551894</td>\n",
       "      <td>735.016895</td>\n",
       "      <td>26</td>\n",
       "      <td>0.032598</td>\n",
       "      <td>0.251422</td>\n",
       "      <td>0.986617</td>\n",
       "      <td>33.366437</td>\n",
       "      <td>375.623008</td>\n",
       "      <td>0.0</td>\n",
       "      <td>1.282012</td>\n",
       "      <td>3.550700</td>\n",
       "      <td>2.269493</td>\n",
       "      <td>3.226786</td>\n",
       "      <td>3.034694</td>\n",
       "    </tr>\n",
       "    <tr>\n",
       "      <th>5758380686695-1</th>\n",
       "      <td>803.724934</td>\n",
       "      <td>2700.606158</td>\n",
       "      <td>1041.253501</td>\n",
       "      <td>1031.496729</td>\n",
       "      <td>7</td>\n",
       "      <td>0.094166</td>\n",
       "      <td>0.557728</td>\n",
       "      <td>0.998899</td>\n",
       "      <td>563.848867</td>\n",
       "      <td>216.595901</td>\n",
       "      <td>0.0</td>\n",
       "      <td>17.710202</td>\n",
       "      <td>6.982014</td>\n",
       "      <td>6.773103</td>\n",
       "      <td>1.964766</td>\n",
       "      <td>82.435252</td>\n",
       "    </tr>\n",
       "    <tr>\n",
       "      <th>5758380686695-2</th>\n",
       "      <td>892.712487</td>\n",
       "      <td>2731.500455</td>\n",
       "      <td>1154.322927</td>\n",
       "      <td>1031.496729</td>\n",
       "      <td>7</td>\n",
       "      <td>0.043765</td>\n",
       "      <td>0.525620</td>\n",
       "      <td>0.999298</td>\n",
       "      <td>565.746638</td>\n",
       "      <td>392.828135</td>\n",
       "      <td>0.0</td>\n",
       "      <td>18.742195</td>\n",
       "      <td>6.990956</td>\n",
       "      <td>6.773103</td>\n",
       "      <td>1.726091</td>\n",
       "      <td>87.350578</td>\n",
       "    </tr>\n",
       "    <tr>\n",
       "      <th>5758380686695-3</th>\n",
       "      <td>417.081191</td>\n",
       "      <td>1588.277690</td>\n",
       "      <td>1203.702635</td>\n",
       "      <td>1031.496729</td>\n",
       "      <td>5</td>\n",
       "      <td>0.251199</td>\n",
       "      <td>5.767260</td>\n",
       "      <td>0.999661</td>\n",
       "      <td>706.378235</td>\n",
       "      <td>181.251025</td>\n",
       "      <td>1.0</td>\n",
       "      <td>34.100460</td>\n",
       "      <td>7.193034</td>\n",
       "      <td>6.773103</td>\n",
       "      <td>3.428836</td>\n",
       "      <td>163.523855</td>\n",
       "    </tr>\n",
       "    <tr>\n",
       "      <th>5758380686695-4</th>\n",
       "      <td>1459.852016</td>\n",
       "      <td>17355.173461</td>\n",
       "      <td>1215.486774</td>\n",
       "      <td>346.628432</td>\n",
       "      <td>4</td>\n",
       "      <td>0.055936</td>\n",
       "      <td>0.405544</td>\n",
       "      <td>0.932815</td>\n",
       "      <td>971.441050</td>\n",
       "      <td>1031.496729</td>\n",
       "      <td>0.0</td>\n",
       "      <td>2.793830</td>\n",
       "      <td>6.919061</td>\n",
       "      <td>4.713366</td>\n",
       "      <td>6.773103</td>\n",
       "      <td>12.887120</td>\n",
       "    </tr>\n",
       "  </tbody>\n",
       "</table>\n",
       "</div>"
      ],
      "text/plain": [
       "                   TwoBody_M  TwoBody_Mcorr   TwoBody_PT    Track1_PT  \\\n",
       "5758380686695-0   965.996975    3980.631373  1088.551894   735.016895   \n",
       "5758380686695-1   803.724934    2700.606158  1041.253501  1031.496729   \n",
       "5758380686695-2   892.712487    2731.500455  1154.322927  1031.496729   \n",
       "5758380686695-3   417.081191    1588.277690  1203.702635  1031.496729   \n",
       "5758380686695-4  1459.852016   17355.173461  1215.486774   346.628432   \n",
       "\n",
       "                 TwoBody_n_Extra  TwoBody_DOCAMAX  TwoBody_ENDVERTEX_CHI2  \\\n",
       "5758380686695-0               26         0.032598                0.251422   \n",
       "5758380686695-1                7         0.094166                0.557728   \n",
       "5758380686695-2                7         0.043765                0.525620   \n",
       "5758380686695-3                5         0.251199                5.767260   \n",
       "5758380686695-4                4         0.055936                0.405544   \n",
       "\n",
       "                 TwoBody_DIRA_OWNPV  TwoBody_IPCHI2_OWNPV    Track2_PT  \\\n",
       "5758380686695-0            0.986617             33.366437   375.623008   \n",
       "5758380686695-1            0.998899            563.848867   216.595901   \n",
       "5758380686695-2            0.999298            565.746638   392.828135   \n",
       "5758380686695-3            0.999661            706.378235   181.251025   \n",
       "5758380686695-4            0.932815            971.441050  1031.496729   \n",
       "\n",
       "                 TwoBody_FromSameB  TwoBody_FD_OWNPV  \\\n",
       "5758380686695-0                0.0          1.282012   \n",
       "5758380686695-1                0.0         17.710202   \n",
       "5758380686695-2                0.0         18.742195   \n",
       "5758380686695-3                1.0         34.100460   \n",
       "5758380686695-4                0.0          2.793830   \n",
       "\n",
       "                 log(TwoBody_FDCHI2_OWNPV)  log(Track1_MINIPCHI2)  \\\n",
       "5758380686695-0                   3.550700               2.269493   \n",
       "5758380686695-1                   6.982014               6.773103   \n",
       "5758380686695-2                   6.990956               6.773103   \n",
       "5758380686695-3                   7.193034               6.773103   \n",
       "5758380686695-4                   6.919061               4.713366   \n",
       "\n",
       "                 log(Track2_MINIPCHI2)  FD_over_FDCHI2  \n",
       "5758380686695-0               3.226786        3.034694  \n",
       "5758380686695-1               1.964766       82.435252  \n",
       "5758380686695-2               1.726091       87.350578  \n",
       "5758380686695-3               3.428836      163.523855  \n",
       "5758380686695-4               6.773103       12.887120  "
      ]
     },
     "execution_count": 53,
     "metadata": {},
     "output_type": "execute_result"
    }
   ],
   "source": [
    "df.head()"
   ]
  },
  {
   "cell_type": "code",
   "execution_count": 54,
   "metadata": {},
   "outputs": [
    {
     "name": "stderr",
     "output_type": "stream",
     "text": [
      "100%|██████████| 5/5 [00:01<00:00,  2.61it/s]\n"
     ]
    }
   ],
   "source": [
    "feats = [c for c in df.columns if c not in labels]\n",
    "X = df[feats]\n",
    "y = df[labels]\n",
    "X_train, X_test, y_train, y_test = train_test_split(X, y, test_size=0.33, random_state=43)\n",
    "ids1 = X_train.index ; ids2 = X_test.index\n",
    "\n",
    "oof = pd.Series(np.zeros(y_train.shape[0]), index= ids1)\n",
    "preds = pd.Series(np.zeros(y_test.shape[0]), index= ids2)\n",
    "\n",
    "all_data = pd.concat([X_train, X_test])\n",
    "norm_data = StandardScaler().fit_transform(all_data)\n",
    "X_train = norm_data[:X_train.shape[0]] ; y_train = y_train.to_numpy().ravel()\n",
    "X_test = norm_data[X_train.shape[0]:] ; y_test = y_test.to_numpy().ravel()\n",
    "\n",
    "skf = StratifiedKFold(n_splits=5, random_state=42)\n",
    "\n",
    "\n",
    "for train_idx, cv_idx in tqdm(skf.split(X_train, y_train), total=skf.n_splits):\n",
    "    model = LGBMClassifier(metric='roc')   \n",
    "    model.fit(X_train[train_idx], y_train[train_idx])\n",
    "    oof.iloc[cv_idx] = model.predict_proba(X_train[cv_idx])[:,1]\n",
    "    preds.loc[ids2] += model.predict_proba(X_test)[:,1] / skf.n_splits"
   ]
  },
  {
   "cell_type": "code",
   "execution_count": 55,
   "metadata": {},
   "outputs": [
    {
     "data": {
      "text/plain": [
       "(0.9317755325099645, 0.7410468319559229, 0.491324200913242)"
      ]
     },
     "execution_count": 55,
     "metadata": {},
     "output_type": "execute_result"
    }
   ],
   "source": [
    "roc_auc_score(y_train, oof), precision_score(y_train, round(oof)) , recall_score(y_train, round(oof))"
   ]
  },
  {
   "cell_type": "code",
   "execution_count": 56,
   "metadata": {},
   "outputs": [
    {
     "data": {
      "text/plain": [
       "(0.9507322089188837, 0.7662721893491125, 0.5068493150684932)"
      ]
     },
     "execution_count": 56,
     "metadata": {},
     "output_type": "execute_result"
    }
   ],
   "source": [
    "roc_auc_score(y_test, preds), precision_score(y_test, round(preds)) , recall_score(y_test, round(preds))"
   ]
  },
  {
   "cell_type": "code",
   "execution_count": 57,
   "metadata": {},
   "outputs": [],
   "source": [
    "all_preds = pd.concat([oof, preds])"
   ]
  },
  {
   "cell_type": "code",
   "execution_count": 58,
   "metadata": {},
   "outputs": [
    {
     "name": "stderr",
     "output_type": "stream",
     "text": [
      "/home/colmsam/miniconda/envs/cern_env/lib/python3.7/site-packages/ipykernel_launcher.py:1: FutureWarning: The signature of `Series.to_csv` was aligned to that of `DataFrame.to_csv`, and argument 'header' will change its default value from False to True: please pass an explicit value to suppress this warning.\n",
      "  \"\"\"Entry point for launching an IPython kernel.\n"
     ]
    }
   ],
   "source": [
    "all_preds[all_preds>0.16].to_csv('second_round_twobody_candidates_tiny.csv')"
   ]
  },
  {
   "cell_type": "code",
   "execution_count": null,
   "metadata": {},
   "outputs": [],
   "source": [
    "\n"
   ]
  },
  {
   "cell_type": "code",
   "execution_count": null,
   "metadata": {},
   "outputs": [],
   "source": [
    "\n"
   ]
  },
  {
   "cell_type": "code",
   "execution_count": null,
   "metadata": {},
   "outputs": [],
   "source": []
  },
  {
   "cell_type": "code",
   "execution_count": null,
   "metadata": {},
   "outputs": [],
   "source": []
  }
 ],
 "metadata": {
  "kernelspec": {
   "display_name": "Python 3",
   "language": "python",
   "name": "python3"
  },
  "language_info": {
   "codemirror_mode": {
    "name": "ipython",
    "version": 3
   },
   "file_extension": ".py",
   "mimetype": "text/x-python",
   "name": "python",
   "nbconvert_exporter": "python",
   "pygments_lexer": "ipython3",
   "version": "3.7.3"
  }
 },
 "nbformat": 4,
 "nbformat_minor": 2
}
