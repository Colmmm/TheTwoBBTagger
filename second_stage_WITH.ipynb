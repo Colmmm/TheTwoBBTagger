{
 "cells": [
  {
   "cell_type": "code",
   "execution_count": 1,
   "metadata": {},
   "outputs": [
    {
     "name": "stdout",
     "output_type": "stream",
     "text": [
      "Welcome to JupyROOT 6.16/00\n"
     ]
    },
    {
     "name": "stderr",
     "output_type": "stream",
     "text": [
      "/home/colmsam/miniconda/envs/cern_env/lib/python3.7/site-packages/root_numpy/__init__.py:46: RuntimeWarning: numpy 1.16.4 is currently installed but you installed root_numpy against numpy 1.9.3. Please consider reinstalling root_numpy for this numpy version.\n",
      "  RuntimeWarning)\n"
     ]
    }
   ],
   "source": [
    "from root_pandas import read_root\n",
    "import seaborn as sns\n",
    "from matplotlib import pyplot as plt\n",
    "import numpy as np\n",
    "import pandas as pd\n",
    "from tqdm import tqdm\n",
    "from sklearn.metrics import roc_auc_score, precision_recall_curve, confusion_matrix, precision_score, recall_score\n",
    "import gc ; gc.enable()\n",
    "from sklearn.model_selection import train_test_split, StratifiedKFold\n",
    "from sklearn.preprocessing import StandardScaler\n",
    "from lightgbm import LGBMClassifier\n",
    "from xgboost import XGBClassifier\n",
    "from sklearn.neural_network import MLPClassifier\n",
    "from tqdm import tqdm\n",
    "import lightgbm as lgb\n",
    "from fnmatch import filter\n",
    "import warnings\n",
    "warnings.filterwarnings('ignore')\n",
    "import gc ; gc.enable()"
   ]
  },
  {
   "cell_type": "code",
   "execution_count": 9,
   "metadata": {},
   "outputs": [],
   "source": [
    "ids = [\n",
    "'runNumber'\n",
    ",'eventNumber'\n",
    ",'nCandidate']\n",
    "\n",
    "features = ['TwoBody_Extra_VERTEXCHI2',\n",
    " 'TwoBody_Extra_MINIPCHI2',\n",
    " 'TwoBody_Extra_OPENING',\n",
    " 'TwoBody_Extra_PT',\n",
    " 'TwoBody_Extra_FLIGHT',\n",
    " 'TwoBody_Extra_TRACKCHI2',\n",
    " 'TwoBody_Extra_GHOST',\n",
    " 'TwoBody_Extra_TYPE']\n",
    "\n",
    "labels = [\n",
    "'TwoBody_Extra_FromSameB' ]\n",
    "\n",
    "old_features = [\n",
    "'TwoBody_DIRA_OWNPV'\n",
    ",'TwoBody_DOCAMAX'\n",
    ",'TwoBody_ENDVERTEX_CHI2'\n",
    ",'noexpand:log(TwoBody_FDCHI2_OWNPV)'    \n",
    ",'TwoBody_FD_OWNPV'\n",
    ",'TwoBody_M'\n",
    ",'TwoBody_IPCHI2_OWNPV'\n",
    ",'TwoBody_Mcorr'\n",
    ",'TwoBody_PT'\n",
    ",'noexpand:log(Track1_MINIPCHI2)'\n",
    ",'Track1_PT'\n",
    ",'noexpand:log(Track2_MINIPCHI2)'\n",
    ",'Track2_PT']\n",
    "\n",
    "cols = ids+ features + labels + old_features"
   ]
  },
  {
   "cell_type": "code",
   "execution_count": 10,
   "metadata": {},
   "outputs": [
    {
     "data": {
      "text/plain": [
       "(2132, 2)"
      ]
     },
     "execution_count": 10,
     "metadata": {},
     "output_type": "execute_result"
    }
   ],
   "source": [
    "pd.read_csv('second_round_twobody_candidates_tiny.csv', header=None).shape"
   ]
  },
  {
   "cell_type": "code",
   "execution_count": 11,
   "metadata": {},
   "outputs": [
    {
     "data": {
      "text/plain": [
       "55"
      ]
     },
     "execution_count": 11,
     "metadata": {},
     "output_type": "execute_result"
    }
   ],
   "source": [
    "df = read_root('TaggingJpsiK2012_tiny_fix_fix.root', columns=cols, flatten=features+labels)\n",
    "\n",
    "#as eventNumber is not unique, but for a given run number, it is, so we can combine the two to get a completely unique id for each event\n",
    "df.index = df.apply(lambda x:str(int(x.runNumber)) + str(int(x.eventNumber))+'-'+str(int(x.nCandidate)), axis=1 )\n",
    "promising_candidate_ids = pd.read_csv('second_round_twobody_candidates_tiny.csv', header=None)[0]\n",
    "\n",
    "\n",
    "#cutting out extra track canidates from TwoBodyCandidates that weren't recoginised by first stage MVA\n",
    "new_df = df.loc[promising_candidate_ids, :]\n",
    "\n",
    "   \n",
    "\n",
    "#giving new_df a new index for each unique extra track\n",
    "new_df.index = new_df.apply(lambda x:str(int(x.runNumber)) + str(int(x.eventNumber))+'-'+str(int(x.nCandidate))+'-'+str(int(x.__array_index)), axis=1 )\n",
    "\n",
    "#get rid of other id like columns as now no need for them\n",
    "new_df = new_df.drop(columns=['runNumber', 'eventNumber', 'nCandidate', '__array_index'], axis=0)\n",
    "gc.collect()"
   ]
  },
  {
   "cell_type": "markdown",
   "metadata": {},
   "source": [
    "## Trying it using TYPE as category, so actually building two classifiers"
   ]
  },
  {
   "cell_type": "code",
   "execution_count": 12,
   "metadata": {
    "scrolled": true
   },
   "outputs": [
    {
     "name": "stderr",
     "output_type": "stream",
     "text": [
      "\r",
      "  0%|          | 0/7 [00:00<?, ?it/s]"
     ]
    },
    {
     "name": "stdout",
     "output_type": "stream",
     "text": [
      "3.0\n"
     ]
    },
    {
     "name": "stderr",
     "output_type": "stream",
     "text": [
      "100%|██████████| 7/7 [00:04<00:00,  1.61it/s]\n",
      "  0%|          | 0/7 [00:00<?, ?it/s]"
     ]
    },
    {
     "name": "stdout",
     "output_type": "stream",
     "text": [
      "4.0\n"
     ]
    },
    {
     "name": "stderr",
     "output_type": "stream",
     "text": [
      "100%|██████████| 7/7 [00:05<00:00,  1.19it/s]\n"
     ]
    }
   ],
   "source": [
    "\n",
    "cols = ids+ features + labels + old_featuresfeats = [c for c in new_df.columns if c not in labels]\n",
    "\n",
    "all_oof = pd.Series()\n",
    "all_preds = pd.Series()\n",
    "\n",
    "for i in new_df.TwoBody_Extra_TYPE.unique():     \n",
    "    print(i)\n",
    "    X = new_df[feats]\n",
    "    y = new_df[labels]\n",
    "    X = X[X.TwoBody_Extra_TYPE==i]\n",
    "    y = y.loc[X.index.values]\n",
    "    X_train, X_test, y_train, y_test = train_test_split(X, y, test_size=0.33, random_state=46)\n",
    "    ids1 = X_train.index ; ids2 = X_test.index\n",
    "    \n",
    "    oof = pd.Series(np.zeros(y_train.shape[0]), index= ids1)\n",
    "    preds = pd.Series(np.zeros(y_test.shape[0]), index= ids2)\n",
    "    \n",
    "    all_data = pd.concat([X_train, X_test])\n",
    "    norm_data = StandardScaler().fit_transform(all_data)\n",
    "    X_train = norm_data[:X_train.shape[0]] ; y_train = y_train.to_numpy().ravel()\n",
    "    X_test = norm_data[X_train.shape[0]:] ; y_test = y_test.to_numpy().ravel()\n",
    "    \n",
    "    skf = StratifiedKFold(n_splits=7, random_state=48)\n",
    "    \n",
    "    \n",
    "    for train_idx, cv_idx in tqdm(skf.split(X_train, y_train), total=skf.n_splits):\n",
    "        model = LGBMClassifier()   \n",
    "        model.fit(X_train[train_idx], y_train[train_idx])\n",
    "        oof.iloc[cv_idx] = model.predict_proba(X_train[cv_idx])[:,1]\n",
    "        preds.loc[ids2] += model.predict_proba(X_test)[:,1] / skf.n_splits\n",
    "        \n",
    "    all_oof = pd.concat([all_oof, oof])\n",
    "    all_preds = pd.concat([all_preds, preds])\n",
    "    "
   ]
  },
  {
   "cell_type": "code",
   "execution_count": 13,
   "metadata": {},
   "outputs": [
    {
     "data": {
      "text/plain": [
       "(0.9516681152848109, 0.7477876106194691, 0.5577557755775577)"
      ]
     },
     "execution_count": 13,
     "metadata": {},
     "output_type": "execute_result"
    }
   ],
   "source": [
    "roc_auc_score(y_train, oof), precision_score(y_train, round(oof)) , recall_score(y_train, round(oof))"
   ]
  },
  {
   "cell_type": "code",
   "execution_count": 14,
   "metadata": {},
   "outputs": [
    {
     "data": {
      "text/plain": [
       "(0.9606888209829385, 0.7368421052631579, 0.5147058823529411)"
      ]
     },
     "execution_count": 14,
     "metadata": {},
     "output_type": "execute_result"
    }
   ],
   "source": [
    "roc_auc_score(y_test, preds), precision_score(y_test, round(preds)) , recall_score(y_test, round(preds))"
   ]
  },
  {
   "cell_type": "code",
   "execution_count": 15,
   "metadata": {},
   "outputs": [],
   "source": [
    "preds_and_oof = pd.concat([all_oof, all_preds])"
   ]
  },
  {
   "cell_type": "code",
   "execution_count": 16,
   "metadata": {},
   "outputs": [],
   "source": [
    "preds_and_oof[preds_and_oof>0.55].to_csv('THIRD_round_extra_track_candidates_tiny.csv')"
   ]
  },
  {
   "cell_type": "code",
   "execution_count": 18,
   "metadata": {},
   "outputs": [],
   "source": [
    "precision, recall, thresholds = precision_recall_curve(y_train, oof)"
   ]
  },
  {
   "cell_type": "code",
   "execution_count": 26,
   "metadata": {},
   "outputs": [
    {
     "data": {
      "text/plain": [
       "<matplotlib.axes._subplots.AxesSubplot at 0x7ff131aa86a0>"
      ]
     },
     "execution_count": 26,
     "metadata": {},
     "output_type": "execute_result"
    },
    {
     "data": {
      "image/png": "[encoded data removed]",
      "text/plain": [
       "<Figure size 432x288 with 1 Axes>"
      ]
     },
     "metadata": {
      "needs_background": "light"
     },
     "output_type": "display_data"
    }
   ],
   "source": [
    "import seaborn as sns\n",
    "sns.lineplot(precision[:-1], thresholds)\n",
    "sns.lineplot(recall[:-1], thresholds, color='red')"
   ]
  },
  {
   "cell_type": "code",
   "execution_count": 40,
   "metadata": {},
   "outputs": [
    {
     "data": {
      "text/plain": [
       "0.03760140049806445"
      ]
     },
     "execution_count": 40,
     "metadata": {},
     "output_type": "execute_result"
    }
   ],
   "source": [
    "preds_and_oof[preds_and_oof>0.55].shape[0]/preds_and_oof.shape[0]"
   ]
  },
  {
   "cell_type": "code",
   "execution_count": 41,
   "metadata": {},
   "outputs": [
    {
     "data": {
      "text/plain": [
       "5758267552716-1-0      0.009675\n",
       "5758323619399-50-1     0.038574\n",
       "5758323619364-18-15    0.007673\n",
       "5758314608564-10-3     0.540857\n",
       "5758205479573-1-0      0.007927\n",
       "5758205479331-75-0     0.060162\n",
       "5758343642863-3-7      0.034601\n",
       "5758205479630-92-24    0.001259\n",
       "5758314608434-3-2      0.005298\n",
       "5758380686738-2-1      0.696516\n",
       "5758323619179-22-4     0.001092\n",
       "5758205479527-9-4      0.001061\n",
       "5758314608617-3-11     0.000311\n",
       "5758314608645-2-0      0.075279\n",
       "5758343643224-0-3      0.015957\n",
       "5758205479305-3-20     0.000212\n",
       "5758205479246-0-25     0.000073\n",
       "5758343643012-8-4      0.007459\n",
       "5758205479331-48-16    0.003814\n",
       "5758205479431-0-13     0.211268\n",
       "5758205479165-21-12    0.076898\n",
       "5758267552716-19-13    0.022472\n",
       "5758343643245-10-6     0.003103\n",
       "5758323619314-7-4      0.555582\n",
       "5758343642974-10-10    0.007883\n",
       "5758314608764-9-9      0.026338\n",
       "5758353654677-0-6      0.261495\n",
       "5758205479249-5-6      0.030625\n",
       "5758429744857-7-0      0.459764\n",
       "5758323619369-12-5     0.053619\n",
       "                         ...   \n",
       "5758323619285-12-13    0.000165\n",
       "5758267552731-80-23    0.000053\n",
       "5758205479733-7-22     0.000569\n",
       "5758343642887-1-10     0.001629\n",
       "5758429744857-21-21    0.796349\n",
       "5758323619223-40-15    0.000354\n",
       "5758205479442-3-15     0.001476\n",
       "5758314608618-8-30     0.018565\n",
       "5758314608499-3-23     0.000355\n",
       "5758205479527-7-11     0.000576\n",
       "5758314608807-32-17    0.000124\n",
       "5758343643114-21-13    0.000932\n",
       "5758205479553-19-13    0.582142\n",
       "5758314608771-1-9      0.000071\n",
       "5758314608463-19-21    0.000020\n",
       "5758314608811-0-23     0.000178\n",
       "5758380686738-0-6      0.048598\n",
       "5758380686740-1-18     0.241794\n",
       "5758323619198-14-12    0.000261\n",
       "5758314608530-7-32     0.000187\n",
       "5758343643089-1-17     0.000074\n",
       "5758380686740-9-18     0.034345\n",
       "5758380686740-1-16     0.002109\n",
       "5758343642852-0-12     0.000416\n",
       "5758343642838-38-14    0.000236\n",
       "5758343643002-3-13     0.000730\n",
       "5758205479214-1-9      0.000043\n",
       "5758323619142-13-24    0.003973\n",
       "5758343643212-14-11    0.000360\n",
       "5758323619364-2-17     0.000052\n",
       "Length: 40557, dtype: float64"
      ]
     },
     "execution_count": 41,
     "metadata": {},
     "output_type": "execute_result"
    }
   ],
   "source": [
    "preds_and_oof"
   ]
  },
  {
   "cell_type": "code",
   "execution_count": null,
   "metadata": {},
   "outputs": [],
   "source": []
  }
 ],
 "metadata": {
  "kernelspec": {
   "display_name": "Python 3",
   "language": "python",
   "name": "python3"
  },
  "language_info": {
   "codemirror_mode": {
    "name": "ipython",
    "version": 3
   },
   "file_extension": ".py",
   "mimetype": "text/x-python",
   "name": "python",
   "nbconvert_exporter": "python",
   "pygments_lexer": "ipython3",
   "version": "3.7.3"
  }
 },
 "nbformat": 4,
 "nbformat_minor": 2
}
